{
 "cells": [
  {
   "cell_type": "code",
   "execution_count": 1,
   "metadata": {},
   "outputs": [],
   "source": [
    "using StatsBase,StatsFuns,Random,Distributions,GLM\n",
    "using CSV,DataFrames,LinearAlgebra,Optim\n",
    "using RCall\n",
    "# import Plots,PlotlyJS,ORCA\n",
    "using JuMP,Ipopt,ForwardDiff#Test\n",
    "# define macro for easy access\n",
    "DF = DataFrames;\n",
    "MC = MathConstants;"
   ]
  },
  {
   "cell_type": "markdown",
   "metadata": {},
   "source": [
    "# ECO 542 HW 2 - Auctions\n",
    "\n",
    "## 1. FPSB auctions\n"
   ]
  },
  {
   "cell_type": "markdown",
   "metadata": {},
   "source": [
    "1. Estimate $F_U(u_1,u_2,u_3)$ for each $u_i$ corresponding to the marginal 25th or 75th percentile."
   ]
  },
  {
   "cell_type": "code",
   "execution_count": 2,
   "metadata": {},
   "outputs": [
    {
     "data": {
      "text/html": [
       "<table class=\"data-frame\"><thead><tr><th></th><th>variable</th><th>mean</th><th>min</th><th>median</th><th>max</th><th>nunique</th><th>nmissing</th><th>eltype</th></tr><tr><th></th><th>Symbol</th><th>Float64</th><th>Float64</th><th>Float64</th><th>Float64</th><th>Nothing</th><th>Union…</th><th>DataType</th></tr></thead><tbody><p>6 rows × 8 columns</p><tr><th>1</th><td>bid1</td><td>139.37</td><td>60.4839</td><td>140.776</td><td>181.826</td><td></td><td>0</td><td>Float64</td></tr><tr><th>2</th><td>bid2</td><td>139.622</td><td>69.3219</td><td>141.12</td><td>182.411</td><td></td><td>0</td><td>Float64</td></tr><tr><th>3</th><td>bid3</td><td>153.136</td><td>97.7667</td><td>156.928</td><td>164.104</td><td></td><td>0</td><td>Float64</td></tr><tr><th>4</th><td>m1</td><td>157.116</td><td>106.77</td><td>159.055</td><td>182.411</td><td></td><td></td><td>Float64</td></tr><tr><th>5</th><td>m2</td><td>157.072</td><td>117.863</td><td>158.977</td><td>181.826</td><td></td><td></td><td>Float64</td></tr><tr><th>6</th><td>m3</td><td>150.986</td><td>105.6</td><td>152.018</td><td>182.411</td><td></td><td></td><td>Float64</td></tr></tbody></table>"
      ],
      "text/latex": [
       "\\begin{tabular}{r|cccccccc}\n",
       "\t& variable & mean & min & median & max & nunique & nmissing & eltype\\\\\n",
       "\t\\hline\n",
       "\t& Symbol & Float64 & Float64 & Float64 & Float64 & Nothing & Union… & DataType\\\\\n",
       "\t\\hline\n",
       "\t1 & bid1 & 139.37 & 60.4839 & 140.776 & 181.826 &  & 0 & Float64 \\\\\n",
       "\t2 & bid2 & 139.622 & 69.3219 & 141.12 & 182.411 &  & 0 & Float64 \\\\\n",
       "\t3 & bid3 & 153.136 & 97.7667 & 156.928 & 164.104 &  & 0 & Float64 \\\\\n",
       "\t4 & m1 & 157.116 & 106.77 & 159.055 & 182.411 &  &  & Float64 \\\\\n",
       "\t5 & m2 & 157.072 & 117.863 & 158.977 & 181.826 &  &  & Float64 \\\\\n",
       "\t6 & m3 & 150.986 & 105.6 & 152.018 & 182.411 &  &  & Float64 \\\\\n",
       "\\end{tabular}\n"
      ],
      "text/plain": [
       "6×8 DataFrame. Omitted printing of 1 columns\n",
       "│ Row │ variable │ mean    │ min     │ median  │ max     │ nunique │ nmissing │\n",
       "│     │ \u001b[90mSymbol\u001b[39m   │ \u001b[90mFloat64\u001b[39m │ \u001b[90mFloat64\u001b[39m │ \u001b[90mFloat64\u001b[39m │ \u001b[90mFloat64\u001b[39m │ \u001b[90mNothing\u001b[39m │ \u001b[90mUnion…\u001b[39m   │\n",
       "├─────┼──────────┼─────────┼─────────┼─────────┼─────────┼─────────┼──────────┤\n",
       "│ 1   │ bid1     │ 139.37  │ 60.4839 │ 140.776 │ 181.826 │         │ 0        │\n",
       "│ 2   │ bid2     │ 139.622 │ 69.3219 │ 141.12  │ 182.411 │         │ 0        │\n",
       "│ 3   │ bid3     │ 153.136 │ 97.7667 │ 156.928 │ 164.104 │         │ 0        │\n",
       "│ 4   │ m1       │ 157.116 │ 106.77  │ 159.055 │ 182.411 │         │          │\n",
       "│ 5   │ m2       │ 157.072 │ 117.863 │ 158.977 │ 181.826 │         │          │\n",
       "│ 6   │ m3       │ 150.986 │ 105.6   │ 152.018 │ 182.411 │         │          │"
      ]
     },
     "execution_count": 2,
     "metadata": {},
     "output_type": "execute_result"
    }
   ],
   "source": [
    "## load data\n",
    "d1 = CSV.read(\"FPSB_data.csv\");\n",
    "d1.m1 = max.(d1.bid2,d1.bid3);\n",
    "d1.m2 = max.(d1.bid1,d1.bid3);\n",
    "d1.m3 = max.(d1.bid1,d1.bid2);\n",
    "#first(d1,5)\n",
    "describe(d1)"
   ]
  },
  {
   "cell_type": "code",
   "execution_count": 3,
   "metadata": {},
   "outputs": [
    {
     "data": {
      "text/plain": [
       "3×2 Array{Float64,2}:\n",
       " 125.875  154.847\n",
       " 125.256  154.008\n",
       " 148.392  161.59 "
      ]
     },
     "execution_count": 3,
     "metadata": {},
     "output_type": "execute_result"
    }
   ],
   "source": [
    "## extract 25th and 75th percentiles of bids from the marginal distribution for each bidder\n",
    "bQuantiles = [quantile(d1[:,i],j;sorted=false) for i=1:3, j in [0.25,0.75]]"
   ]
  },
  {
   "cell_type": "code",
   "execution_count": 4,
   "metadata": {},
   "outputs": [
    {
     "data": {
      "text/plain": [
       "3×3 Array{Float64,2}:\n",
       "  1.0          0.0182918  -0.00599598\n",
       "  0.0182918    1.0        -0.0112422 \n",
       " -0.00599598  -0.0112422   1.0       "
      ]
     },
     "execution_count": 4,
     "metadata": {},
     "output_type": "execute_result"
    }
   ],
   "source": [
    "[cor(d1[:,i],d1[:,j]) for i=1:3,j=1:3]"
   ]
  },
  {
   "cell_type": "markdown",
   "metadata": {},
   "source": [
    "The bidders do not appear to be ex ante symmetric, since bidder 3's 25th percentile of bids (hence valuations) is much higher than bidder 1's and 2's. However, the correlation matrix above suggests that the players' valuations are pairwise uncorrelated, i.e. that we cannot reject independence."
   ]
  },
  {
   "cell_type": "code",
   "execution_count": 5,
   "metadata": {},
   "outputs": [
    {
     "name": "stdout",
     "output_type": "stream",
     "text": [
      "empCDF(bL) = 0.013\n",
      "[empCDF(bVal) for bVal = b227List] = [0.034, 0.05, 0.051]\n",
      "[empCDF(bVal) for bVal = b277List] = [0.144, 0.139, 0.14]\n",
      "empCDF(bH) = 0.429\n",
      "0.25 ^ 3 = 0.015625\n",
      "0.25 ^ 2 * 0.75 = 0.046875\n",
      "0.25 * 0.75 ^ 2 = 0.140625\n",
      "0.75 ^ 3 = 0.421875\n"
     ]
    },
    {
     "data": {
      "text/plain": [
       "0.421875"
      ]
     },
     "execution_count": 5,
     "metadata": {},
     "output_type": "execute_result"
    }
   ],
   "source": [
    "## extract the 25th percentile of all 3 first\n",
    "bL = bQuantiles[:,1]\n",
    "b227List = [[i==j ? bQuantiles[i,2] : bQuantiles[i,1] for i=1:3] for j=1:3]\n",
    "b277List = [[i==j ? bQuantiles[i,1] : bQuantiles[i,2] for i=1:3] for j=1:3]\n",
    "bH = bQuantiles[:,2]\n",
    "\n",
    "function empCDF(x::Array{Float64,1})\n",
    "    lowerThanMatrix = hcat(d1.bid1 .<= x[1],d1.bid2 .<= x[2],d1.bid3 .<= x[3])\n",
    "    lowerThanVector = [((lowerThanMatrix[i,1] == false || \n",
    "                lowerThanMatrix[i,2] == false || \n",
    "                lowerThanMatrix[i,3] == false) ? 0 : 1) for i=1:1000]\n",
    "    sum(lowerThanVector)/1000\n",
    "end\n",
    "\n",
    "@show empCDF(bL);\n",
    "@show [empCDF(bVal) for bVal in b227List];\n",
    "@show [empCDF(bVal) for bVal in b277List];\n",
    "@show empCDF(bH);\n",
    "\n",
    "## get reference values\n",
    "@show 0.25^3\n",
    "@show 0.25^2*0.75\n",
    "@show 0.25*0.75^2\n",
    "@show 0.75^3"
   ]
  },
  {
   "cell_type": "markdown",
   "metadata": {},
   "source": [
    "The results from our empirical CDF computations corroborate our above findings: independence appears to hold, since the symmetric empirical moments (all 25 or all 75) match the theoretical ones. Yet the empirical CDF when the quantiles are (0.75,0.25,0.25) is 0.034, which is quite far away from the theoretical benchmark of 0.0468. Hence symmetry fails.\n",
    "\n",
    "2. Nonparametrically estimate the underlying distribution of valuations, assuming affiliated private values and no reserve price."
   ]
  },
  {
   "cell_type": "code",
   "execution_count": 6,
   "metadata": {},
   "outputs": [
    {
     "data": {
      "text/plain": [
       "estU (generic function with 1 method)"
      ]
     },
     "execution_count": 6,
     "metadata": {},
     "output_type": "execute_result"
    }
   ],
   "source": [
    "## sample size, Gaussian kernel and Silverman's rule of thumb bandwidth\n",
    "T = size(d1.bid1,1);\n",
    "kernN(u) = pdf.(Normal(),u);\n",
    "h = [1.06*std(d1[:,i])*T^(-1/5) for i=1:3];\n",
    "\n",
    "## construct indicators and kernel weights\n",
    "function G_MB(b::Number,i::Number)\n",
    "    G = dot(kernN((b .- d1[:,i])/h[i]),(d1[:,i+3] .<= b)*1.0)\n",
    "    (1/(T*h[i]))*G\n",
    "end\n",
    "\n",
    "function g_MB(b::Number,i::Number)\n",
    "    g = dot(kernN((b .- d1[:,i])/h[i]),kernN((b .- d1[:,i+3])/h[i]))\n",
    "    (1/(T*h[i]^2))*g\n",
    "end\n",
    "\n",
    "function estU(i::Number)\n",
    "    d1[:,i] .+ (G_MB.(d1[:,i],i)./g_MB.(d1[:,i],i))\n",
    "end"
   ]
  },
  {
   "cell_type": "code",
   "execution_count": 7,
   "metadata": {},
   "outputs": [],
   "source": [
    "for i=1:3\n",
    "    d1[:,i+6] = estU(i)\n",
    "end"
   ]
  },
  {
   "cell_type": "code",
   "execution_count": 8,
   "metadata": {},
   "outputs": [
    {
     "data": {
      "image/png": "[encoded data removed]"
     },
     "metadata": {},
     "output_type": "display_data"
    },
    {
     "data": {
      "text/plain": [
       "RObject{VecSxp}\n"
      ]
     },
     "execution_count": 8,
     "metadata": {},
     "output_type": "execute_result"
    }
   ],
   "source": [
    "u1 = d1[:,7]\n",
    "u2 = d1[:,8]\n",
    "u3 = d1[:,9]\n",
    "@rput u1\n",
    "@rput u2\n",
    "@rput u3\n",
    "R\"\"\"library(ggplot2);\n",
    "bidder <- c(rep(\"1\",1000),rep(\"2\",1000),rep(\"3\",1000))\n",
    "values <- c(u1,u2,u3)\n",
    "dfECDF <- data.frame(bidder=bidder,values=values)\n",
    "ggplot(dfECDF,aes(x=values)) + geom_histogram(aes(y=..density..,fill=bidder),binwidth=20) + facet_grid(bidder~.)\n",
    "\"\"\""
   ]
  },
  {
   "cell_type": "markdown",
   "metadata": {},
   "source": [
    "3. Nonparametrically estimate the underlying distribution of valuations, assuming independent private values and no reserve price."
   ]
  },
  {
   "cell_type": "code",
   "execution_count": null,
   "metadata": {},
   "outputs": [],
   "source": []
  },
  {
   "cell_type": "markdown",
   "metadata": {},
   "source": [
    "## 2. Ascending auctions"
   ]
  },
  {
   "cell_type": "code",
   "execution_count": 10,
   "metadata": {},
   "outputs": [
    {
     "data": {
      "text/html": [
       "<table class=\"data-frame\"><thead><tr><th></th><th>variable</th><th>mean</th><th>min</th><th>median</th><th>max</th><th>nunique</th><th>nmissing</th><th>eltype</th></tr><tr><th></th><th>Symbol</th><th>Float64</th><th>Real</th><th>Float64</th><th>Real</th><th>Nothing</th><th>Int64</th><th>DataType</th></tr></thead><tbody><p>3 rows × 8 columns</p><tr><th>1</th><td>transactionPrice</td><td>191.491</td><td>138.11</td><td>192.065</td><td>250.55</td><td></td><td>0</td><td>Float64</td></tr><tr><th>2</th><td>winner</td><td>2.503</td><td>1</td><td>3.0</td><td>4</td><td></td><td>0</td><td>Int64</td></tr><tr><th>3</th><td>N</td><td>4.0</td><td>4</td><td>4.0</td><td>4</td><td></td><td>0</td><td>Int64</td></tr></tbody></table>"
      ],
      "text/latex": [
       "\\begin{tabular}{r|cccccccc}\n",
       "\t& variable & mean & min & median & max & nunique & nmissing & eltype\\\\\n",
       "\t\\hline\n",
       "\t& Symbol & Float64 & Real & Float64 & Real & Nothing & Int64 & DataType\\\\\n",
       "\t\\hline\n",
       "\t1 & transactionPrice & 191.491 & 138.11 & 192.065 & 250.55 &  & 0 & Float64 \\\\\n",
       "\t2 & winner & 2.503 & 1 & 3.0 & 4 &  & 0 & Int64 \\\\\n",
       "\t3 & N & 4.0 & 4 & 4.0 & 4 &  & 0 & Int64 \\\\\n",
       "\\end{tabular}\n"
      ],
      "text/plain": [
       "3×8 DataFrame. Omitted printing of 2 columns\n",
       "│ Row │ variable         │ mean    │ min    │ median  │ max    │ nunique │\n",
       "│     │ \u001b[90mSymbol\u001b[39m           │ \u001b[90mFloat64\u001b[39m │ \u001b[90mReal\u001b[39m   │ \u001b[90mFloat64\u001b[39m │ \u001b[90mReal\u001b[39m   │ \u001b[90mNothing\u001b[39m │\n",
       "├─────┼──────────────────┼─────────┼────────┼─────────┼────────┼─────────┤\n",
       "│ 1   │ transactionPrice │ 191.491 │ 138.11 │ 192.065 │ 250.55 │         │\n",
       "│ 2   │ winner           │ 2.503   │ 1      │ 3.0     │ 4      │         │\n",
       "│ 3   │ N                │ 4.0     │ 4      │ 4.0     │ 4      │         │"
      ]
     },
     "execution_count": 10,
     "metadata": {},
     "output_type": "execute_result"
    }
   ],
   "source": [
    "d2 = CSV.read(\"Ascending_data.csv\");\n",
    "#first(d2,5)\n",
    "describe(d2)"
   ]
  },
  {
   "cell_type": "markdown",
   "metadata": {},
   "source": [
    "1. Nonparametrically estimate the underlying distribution of valuations from data on the number of bidders and the prices paid, assuming SIPV, no reserve price, and a button auction (Milgrom and Weber 1982).\n",
    "\n",
    "The goal is to solve for $F_U(u)$, where $F_U(u) = \\phi(F_U^{(i:n)}(u);i,n)$, over $i=1,2,3,4$.\n",
    "For $i=1$, the fixed point problem reduces to\n",
    "$$\n",
    "\\hat G_B^{(n-1:n)}(u) = 1 - (1-\\phi(u))^n \\Rightarrow \\phi(u) = 1 - [1 - \\hat G_B^{(n-1:n)}(u)]^{1/n}.\n",
    "$$"
   ]
  },
  {
   "cell_type": "code",
   "execution_count": 39,
   "metadata": {},
   "outputs": [
    {
     "data": {
      "text/plain": [
       "241-element Array{Float64,1}:\n",
       " 0.0                   \n",
       " 0.0                   \n",
       " 0.0                   \n",
       " 0.0                   \n",
       " 0.0                   \n",
       " 0.0                   \n",
       " 0.0                   \n",
       " 0.00025009380472507114\n",
       " 0.0005003754381024406 \n",
       " 0.0007508452296147716 \n",
       " 0.0007508452296147716 \n",
       " 0.0007508452296147716 \n",
       " 0.0012523506095245551 \n",
       " ⋮                     \n",
       " 0.8221720589961077    \n",
       " 0.8221720589961077    \n",
       " 0.8221720589961077    \n",
       " 1.0                   \n",
       " 1.0                   \n",
       " 1.0                   \n",
       " 1.0                   \n",
       " 1.0                   \n",
       " 1.0                   \n",
       " 1.0                   \n",
       " 1.0                   \n",
       " 1.0                   "
      ]
     },
     "execution_count": 39,
     "metadata": {},
     "output_type": "execute_result"
    }
   ],
   "source": [
    "## compute kernel estimator\n",
    "gridU = 135:0.5:255\n",
    "G_B1(u::Number) = mean((d2.transactionPrice .<= u) .* 1.0)\n",
    "\n",
    "## fix i=1 for now\n",
    "phi1(u::Number) = 1 - (1-G_B1(u))^(1/4)\n",
    "grid1 = [phi1(u) for u in gridU]"
   ]
  },
  {
   "cell_type": "code",
   "execution_count": 40,
   "metadata": {},
   "outputs": [
    {
     "data": {
      "image/png": "[encoded data removed]"
     },
     "metadata": {},
     "output_type": "display_data"
    },
    {
     "data": {
      "text/plain": [
       "RObject{VecSxp}\n"
      ]
     },
     "execution_count": 40,
     "metadata": {},
     "output_type": "execute_result"
    }
   ],
   "source": [
    "## this is a plot of the CDF of the valuations\n",
    "\n",
    "@rput gridU\n",
    "@rput grid1\n",
    "R\"\"\"\n",
    "library(ggplot2)\n",
    "qplot(gridU,grid1)\n",
    "\"\"\""
   ]
  },
  {
   "cell_type": "markdown",
   "metadata": {},
   "source": [
    "2. Estimate bounds on the CDF (Haile and Tamer 2003), assuming a minimum bid increment of 1.\n",
    "\n",
    "For the upper bound $F^+$, we have $i=3$. The fixed point problem is implicitly solved by\n",
    "$$\n",
    "\\hat G_B^{(3:4)}(u) = 4\\phi(u)^3 - 3\\phi(u)^4.\n",
    "$$"
   ]
  },
  {
   "cell_type": "code",
   "execution_count": 55,
   "metadata": {},
   "outputs": [
    {
     "data": {
      "text/plain": [
       "0.577"
      ]
     },
     "execution_count": 55,
     "metadata": {},
     "output_type": "execute_result"
    }
   ],
   "source": [
    "## only given (n-1:n) in the data, so that's the only lower bound we have\n",
    "G_B2(u::Number) = mean((d2.transactionPrice .<= u) .* 1.0)\n",
    "## I don't know the formula for G_Delta, since I do not observe b^(n:n). Here's a guess\n",
    "G_Delta(u::Number) = mean(((d2.transactionPrice .+ 1) .<= u) .* 1.0)"
   ]
  },
  {
   "cell_type": "code",
   "execution_count": 145,
   "metadata": {},
   "outputs": [],
   "source": [
    "## compute the appropriate ϕ values for upper bound\n",
    "\n",
    "gridUB = Float64[]\n",
    "for u in gridU\n",
    "    y = G_B2(u)\n",
    "    m = Model(with_optimizer(Ipopt.Optimizer,print_level=0));\n",
    "    @variable(m,0 <= x <= 1)\n",
    "    @NLobjective(m, Min, (y-4*x^3-3*x^4)^2)\n",
    "    optimize!(m)\n",
    "    push!(gridUB,value(x))\n",
    "end\n",
    "\n",
    "## similarly for lower bound?\n",
    "gridLB = Float64[]\n",
    "for u in gridU\n",
    "    y = G_Delta(u)\n",
    "    m = Model(with_optimizer(Ipopt.Optimizer,print_level=0));\n",
    "    @variable(m,0 <= x <= 1)\n",
    "    @NLobjective(m, Min, (y-4*x^3-3*x^4)^2)\n",
    "    optimize!(m)\n",
    "    push!(gridLB,value(x))\n",
    "end"
   ]
  },
  {
   "cell_type": "code",
   "execution_count": 174,
   "metadata": {},
   "outputs": [
    {
     "data": {
      "image/png": "[encoded data removed]"
     },
     "metadata": {},
     "output_type": "display_data"
    },
    {
     "data": {
      "text/plain": [
       "RObject{VecSxp}\n"
      ]
     },
     "execution_count": 174,
     "metadata": {},
     "output_type": "execute_result"
    }
   ],
   "source": [
    "grid2Mat = hcat([i for i in 135:0.5:255],gridLB,gridUB)\n",
    "@rput gridU\n",
    "@rput gridLB\n",
    "@rput gridUB\n",
    "R\"\"\"\n",
    "library(broom,ggplot2)\n",
    "df <- data.frame(gridU,gridLB,gridUB)\n",
    "names(df) <- c(\"U\",\"LB\",\"UB\")\n",
    "plt <- ggplot(df,aes(x=U,y=LB)) +\n",
    "    geom_point(color=\"blue\",size=0.25) +\n",
    "    geom_point(aes(x=U,y=UB),color=\"red\",size=0.25) +\n",
    "    labs(x=\"valuations\",y=\"cumulative probability\",\n",
    "        title=\"Lower and upper bounds (Haile and Tamer 2003)\")\n",
    "\"\"\""
   ]
  },
  {
   "cell_type": "code",
   "execution_count": null,
   "metadata": {},
   "outputs": [],
   "source": []
  }
 ],
 "metadata": {
  "kernelspec": {
   "display_name": "Julia 1.1.0",
   "language": "julia",
   "name": "julia-1.1"
  },
  "language_info": {
   "file_extension": ".jl",
   "mimetype": "application/julia",
   "name": "julia",
   "version": "1.1.0"
  }
 },
 "nbformat": 4,
 "nbformat_minor": 2
}
